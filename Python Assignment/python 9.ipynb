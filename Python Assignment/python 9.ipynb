{
 "cells": [
  {
   "cell_type": "markdown",
   "id": "d693bd4c",
   "metadata": {},
   "source": [
    "### Question 1\n",
    "\n",
    "\n",
    " 1. To what does a relative path refer?\n",
    " \n",
    " ### Answer\n",
    " \n",
    " A file relative path describes the location of a file relative to the current working directory"
   ]
  },
  {
   "cell_type": "markdown",
   "id": "3f5c49bb",
   "metadata": {},
   "source": [
    "### Question 2\n",
    "\n",
    "2. What does an absolute path start with your operating system?\n",
    "\n",
    "### Answer\n",
    "\n",
    "An absolute path always starts with a forward slash \"/\""
   ]
  },
  {
   "cell_type": "markdown",
   "id": "1fa65882",
   "metadata": {},
   "source": [
    "### Question 3\n",
    "\n",
    "\n",
    "3. What do the functions os.getcwd() and os.chdir() do?\n",
    "\n",
    "### Answer 3\n",
    "\n",
    "The os.getcwd() returns the relative path while chdir() takes in a path and changes to the location indicated in the path"
   ]
  },
  {
   "cell_type": "code",
   "execution_count": 1,
   "id": "b4586c33",
   "metadata": {},
   "outputs": [
    {
     "data": {
      "text/plain": [
       "'/Users/macbookpro/Python Assignment'"
      ]
     },
     "execution_count": 1,
     "metadata": {},
     "output_type": "execute_result"
    }
   ],
   "source": [
    "# for example\n",
    "\n",
    "import os\n",
    "\n",
    "os.getcwd()"
   ]
  },
  {
   "cell_type": "code",
   "execution_count": 2,
   "id": "9258e718",
   "metadata": {},
   "outputs": [],
   "source": [
    "os.chdir(\"/Users/macbookpro/Downloads/\")"
   ]
  },
  {
   "cell_type": "markdown",
   "id": "2da41608",
   "metadata": {},
   "source": [
    "### Question 4\n",
    "\n",
    "\n",
    "4. What are the . and .. folders?\n",
    "\n",
    "### Answer \n",
    "\n",
    "When we use \".\", it refers to the current working directory, when \"..\" refers to the parent file working directory"
   ]
  },
  {
   "cell_type": "code",
   "execution_count": 3,
   "id": "0172c718",
   "metadata": {},
   "outputs": [],
   "source": [
    "os.chdir(\".\")"
   ]
  },
  {
   "cell_type": "code",
   "execution_count": 4,
   "id": "1e0dc048",
   "metadata": {},
   "outputs": [
    {
     "name": "stdout",
     "output_type": "stream",
     "text": [
      "2ND SEMESTER 2021-2022 EXAM TIME TABLE 400L-500L.docx\r\n",
      "\u001b[34m5-Days-Live-EDA-and-Feature-Engineering-main\u001b[m\u001b[m/\r\n",
      "5-Days-Live-EDA-and-Feature-Engineering-main.zip\r\n",
      "7z2300-mac.tar.xz\r\n",
      "Anaconda3-2023.03-1-MacOSX-x86_64.pkg\r\n",
      "Assignment_1.docx\r\n",
      "Assignment_10.docx\r\n",
      "Assignment_2.docx\r\n",
      "Assignment_9.docx\r\n",
      "Barry's Project (Translation of Text to Sign Language) (1).docx\r\n",
      "Barry's Project (Translation of Text to Sign Language) (2).docx\r\n",
      "Barry's Project (Translation of Text to Sign Language) (3).docx\r\n",
      "Barry's Project (Translation of Text to Sign Language).docx\r\n",
      "CHAPTER THREE.docx\r\n",
      "CSC410  L7 - Computer Systems Performance & Evaluation.pptx\r\n",
      "CSC410 L1 - Computer Systems Performance & Evaluation.pdf\r\n",
      "CSC410 L3 - Computer Systems Performance & Evaluation.pdf\r\n",
      "CSC410 L4 - Computer Systems Performance & Evaluation.pdf\r\n",
      "CSC410 L5 - Computer Systems Performance & Evaluation.pdf\r\n",
      "CSC410 L6 - Computer Systems Performance & Evaluation.pdf\r\n",
      "Data Science.pdf\r\n",
      "Dr_Web-Key_14_12_2030.dmg\r\n",
      "FACULTY_DUE_RETURNING_STUDENTS_Payment_Receipt_Letter.pdf\r\n",
      "Feb 06, 2022.txt\r\n",
      "Firefox 115.0.2.dmg\r\n",
      "\u001b[34mImageScrapper\u001b[m\u001b[m/\r\n",
      "Learning Content for FREE AI Classes in Every City 2023 (1).pdf\r\n",
      "Learning Content for FREE AI Classes in Every City 2023.pdf\r\n",
      "Messenger.188.0.0.11.164.dmg\r\n",
      "Miracle Akpika (1).pdf\r\n",
      "Miracle Akpika.pdf\r\n",
      "\u001b[34mOpera Installer.app\u001b[m\u001b[m/\r\n",
      "OperaSetup.zip\r\n",
      "\u001b[34mPostman.app\u001b[m\u001b[m/\r\n",
      "Programming_Assingment1.docx\r\n",
      "Programming_Assingment4.docx\r\n",
      "\u001b[34mReviewFlask\u001b[m\u001b[m/\r\n",
      "TRANSLATION OF TEXT TO SIGN LANGUAGE (1) (1) 2.pptx\r\n",
      "TRANSLATION OF TEXT TO SIGN LANGUAGE (1) (1).pptx\r\n",
      "TRANSLATION OF TEXT TO SIGN LANGUAGE (1) (1).pptx.cpgz\r\n",
      "TRANSLATION OF TEXT TO SIGN LANGUAGE (1).pptx\r\n",
      "TRANSLATION OF TEXT TO SIGN LANGUAGE (2) 2.pptx\r\n",
      "TRANSLATION OF TEXT TO SIGN LANGUAGE (2).pptx\r\n",
      "TRANSLATION OF TEXT TO SIGN LANGUAGE (2).pptx.cpgz\r\n",
      "TRANSLATION OF TEXT TO SIGN LANGUAGE 2.pptx\r\n",
      "TRANSLATION OF TEXT TO SIGN LANGUAGE 2.pptx.cpgz\r\n",
      "TRANSLATION OF TEXT TO SIGN LANGUAGE.pptx\r\n",
      "TRANSLATION OF TEXT TO SIGN LANGUAGE.pptx.cpgz\r\n",
      "TeamViewerMeeting.dmg\r\n",
      "\u001b[34mTextToSignLanguage-master\u001b[m\u001b[m/\r\n",
      "TextToSignLanguage-master (1).zip\r\n",
      "TextToSignLanguage-master (2).zip\r\n",
      "TextToSignLanguage-master (3).zip\r\n",
      "TextToSignLanguage-master (4).zip\r\n",
      "TextToSignLanguage-master (5).zip\r\n",
      "TextToSignLanguage-master.zip\r\n",
      "Unknown\r\n",
      "Untitled Folder (1).html\r\n",
      "Untitled Folder.html\r\n",
      "Untitled.py\r\n",
      "Vic-Demo.pem\r\n",
      "Victor's Resume.docx\r\n",
      "Victor's Resume.pdf\r\n",
      "\u001b[34mVisual Studio Code.app\u001b[m\u001b[m/\r\n",
      "Xcode_15_beta_2.xcdownloadmanifest\r\n",
      "app (1).py\r\n",
      "app (2).py\r\n",
      "app.py\r\n",
      "\u001b[34marchive\u001b[m\u001b[m/\r\n",
      "archive (1).zip\r\n",
      "\u001b[34marchive (2)\u001b[m\u001b[m/\r\n",
      "archive (2).zip\r\n",
      "archive.zip\r\n",
      "\u001b[34mbootstrap-5.3.0-dist\u001b[m\u001b[m/\r\n",
      "\u001b[34mchromedriver_mac64\u001b[m\u001b[m/\r\n",
      "chromedriver_mac64.zip\r\n",
      "files-WhatsApp.dmg\r\n",
      "\u001b[34mflask\u001b[m\u001b[m/\r\n",
      "\u001b[34mforms\u001b[m\u001b[m/\r\n",
      "googlechrome.dmg\r\n",
      "\u001b[34mhouse-prices-advanced-regression-techniques\u001b[m\u001b[m/\r\n",
      "house-prices-advanced-regression-techniques.zip\r\n",
      "pycharm-community-2023.1.2.dmg\r\n",
      "\u001b[34mpyinputplus-latest\u001b[m\u001b[m/\r\n",
      "runtime.txt\r\n",
      "seattle-weather.csv\r\n",
      "sodapdf-converted (1).docx\r\n",
      "sodapdf-converted.docx\r\n",
      "transactions\r\n",
      "transactions.gz\r\n",
      "tsetup.4.8.3.dmg\r\n",
      "xampp-osx-8.0.28-0-installer.dmg\r\n",
      "xampp-osx-8.2.4-0-installer.dmg\r\n"
     ]
    }
   ],
   "source": [
    "ls"
   ]
  },
  {
   "cell_type": "code",
   "execution_count": 5,
   "id": "198bfcea",
   "metadata": {},
   "outputs": [],
   "source": [
    "os.chdir(\"..\")"
   ]
  },
  {
   "cell_type": "code",
   "execution_count": 6,
   "id": "8a07306c",
   "metadata": {},
   "outputs": [
    {
     "name": "stdout",
     "output_type": "stream",
     "text": [
      "\u001b[34mDesktop\u001b[m\u001b[m/                       \u001b[34mPublic\u001b[m\u001b[m/\r\n",
      "\u001b[34mDocuments\u001b[m\u001b[m/                     \u001b[34mPycharmProjects\u001b[m\u001b[m/\r\n",
      "\u001b[34mDownloads\u001b[m\u001b[m/                     \u001b[34mPython Assignment\u001b[m\u001b[m/\r\n",
      "\u001b[34mLibrary\u001b[m\u001b[m/                       \u001b[34mPython Programming Assignment\u001b[m\u001b[m/\r\n",
      "\u001b[34mMovies\u001b[m\u001b[m/                        \u001b[34manaconda3\u001b[m\u001b[m/\r\n",
      "\u001b[34mMusic\u001b[m\u001b[m/                         \u001b[34mfile_extraction\u001b[m\u001b[m/\r\n",
      "\u001b[34mPictures\u001b[m\u001b[m/                      \u001b[34mfiles\u001b[m\u001b[m/\r\n",
      "\u001b[34mPostman\u001b[m\u001b[m/                       json_file.py\r\n"
     ]
    }
   ],
   "source": [
    "ls"
   ]
  },
  {
   "cell_type": "markdown",
   "id": "0b5391bc",
   "metadata": {},
   "source": [
    "### Question 5\n",
    "\n",
    "5. In C:\\bacon\\eggs\\spam.txt, which part is the dir name, and which part is the base name?\n",
    "\n",
    "### Answer\n",
    "\n",
    "\"spam.txt\" is the base name while \"C:\\bacon\\eggs\\\" is the dir name"
   ]
  },
  {
   "cell_type": "markdown",
   "id": "18cfdb4c",
   "metadata": {},
   "source": [
    "# to confirm\n",
    "\n",
    "use os.path.basename() to get the base name and use os.path.dir() to get the dir name"
   ]
  },
  {
   "cell_type": "markdown",
   "id": "384a015d",
   "metadata": {},
   "source": [
    "### Question 6\n",
    "\n",
    "6. What are the three “mode” arguments that can be passed to the open() function?\n",
    "\n",
    "### Answer \n",
    "\n",
    "The three modes arguments are \"r\", \"w\", \"a\" ."
   ]
  },
  {
   "cell_type": "markdown",
   "id": "9fb033b4",
   "metadata": {},
   "source": [
    "### Question 7\n",
    "\n",
    "\n",
    "7. What happens if an existing file is opened in write mode?\n",
    "\n",
    "\n",
    "### Answer\n",
    "\n",
    "When opening a file in a \"w\" mode, it truncates if it already exists"
   ]
  },
  {
   "cell_type": "markdown",
   "id": "e6a3df64",
   "metadata": {},
   "source": [
    "### Question 8\n",
    "\n",
    "\n",
    "8. How do you tell the difference between read() and readlines()?"
   ]
  },
  {
   "cell_type": "code",
   "execution_count": null,
   "id": "6daa0dbf",
   "metadata": {},
   "outputs": [],
   "source": []
  },
  {
   "cell_type": "code",
   "execution_count": 10,
   "id": "f3c52244",
   "metadata": {},
   "outputs": [
    {
     "name": "stdout",
     "output_type": "stream",
     "text": [
      "https://drive.google.com/drive/folders/1JVacVnkaLBRiniBZuqPVhsVKqIGXFgPj\n",
      "\n",
      "pip install -r requirements.txt\n",
      "\n",
      "pip install selenium\n",
      "\n",
      "https://chromedriver.chromium.org/downloads\n",
      "\n",
      "pip install requests\n",
      "\n",
      "\n",
      "#Try to store all of these images in mongo db \n",
      "#Try to implement it with class and object \n",
      "#Coding standard \n",
      "# write a function for fetch all the image based on there name form data base \n",
      "# Try to modify a code so that i will first search in data base and check if images are available for a \n",
      "#respective search if not then only scrap \n",
      "\n",
      "\n",
      "\n",
      "https://git-scm.com/downloads \n",
      "\n",
      "https://devcenter.heroku.com/articles/heroku-cli\n",
      "\n",
      "\n",
      "https://dashboard.heroku.com/apps\n",
      "\n",
      "\n",
      "Deployment steps - https://docs.google.com/document/d/1mqAu3jHoibl94Q8-tqaei0NMi_lLgsj0/edit?usp=sharing&ouid=118282207943964605599&rtpof=true&sd=true\n"
     ]
    }
   ],
   "source": [
    "with open(\"/Users/macbookpro/Downloads/Feb 06, 2022.txt\", \"r\") as file:\n",
    "    reader = file.read()\n",
    "    print(reader)"
   ]
  },
  {
   "cell_type": "code",
   "execution_count": 11,
   "id": "e9f53e4a",
   "metadata": {},
   "outputs": [
    {
     "name": "stdout",
     "output_type": "stream",
     "text": [
      "['https://drive.google.com/drive/folders/1JVacVnkaLBRiniBZuqPVhsVKqIGXFgPj\\n', '\\n', 'pip install -r requirements.txt\\n', '\\n', 'pip install selenium\\n', '\\n', 'https://chromedriver.chromium.org/downloads\\n', '\\n', 'pip install requests\\n', '\\n', '\\n', '#Try to store all of these images in mongo db \\n', '#Try to implement it with class and object \\n', '#Coding standard \\n', '# write a function for fetch all the image based on there name form data base \\n', '# Try to modify a code so that i will first search in data base and check if images are available for a \\n', '#respective search if not then only scrap \\n', '\\n', '\\n', '\\n', 'https://git-scm.com/downloads \\n', '\\n', 'https://devcenter.heroku.com/articles/heroku-cli\\n', '\\n', '\\n', 'https://dashboard.heroku.com/apps\\n', '\\n', '\\n', 'Deployment steps - https://docs.google.com/document/d/1mqAu3jHoibl94Q8-tqaei0NMi_lLgsj0/edit?usp=sharing&ouid=118282207943964605599&rtpof=true&sd=true']\n"
     ]
    }
   ],
   "source": [
    "with open(\"/Users/macbookpro/Downloads/Feb 06, 2022.txt\", \"r\") as file:\n",
    "    reader = file.readlines()\n",
    "    print(reader)"
   ]
  },
  {
   "cell_type": "markdown",
   "id": "22df3b94",
   "metadata": {},
   "source": [
    "### Observation:::\n",
    "\n",
    "readlines() reads one line at a time and it reads only a file ready for reading, while read() returns all the line and not a list"
   ]
  },
  {
   "cell_type": "markdown",
   "id": "5c8bb9dc",
   "metadata": {},
   "source": [
    "### Question 9\n",
    "\n",
    "\n",
    "9. What data structure does a shelf value resemble?\n",
    "\n",
    "### Answer\n",
    "\n",
    "The shelf has a data structure that res"
   ]
  }
 ],
 "metadata": {
  "kernelspec": {
   "display_name": "Python 3 (ipykernel)",
   "language": "python",
   "name": "python3"
  },
  "language_info": {
   "codemirror_mode": {
    "name": "ipython",
    "version": 3
   },
   "file_extension": ".py",
   "mimetype": "text/x-python",
   "name": "python",
   "nbconvert_exporter": "python",
   "pygments_lexer": "ipython3",
   "version": "3.10.9"
  }
 },
 "nbformat": 4,
 "nbformat_minor": 5
}
