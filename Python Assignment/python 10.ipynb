{
 "cells": [
  {
   "cell_type": "markdown",
   "id": "b484f03c",
   "metadata": {},
   "source": [
    "### Question 1\n",
    "\n",
    "\n",
    "\n",
    "1. How do you distinguish between shutil.copy() and shutil.copytree()?\n"
   ]
  },
  {
   "cell_type": "code",
   "execution_count": 1,
   "id": "99e68d0b",
   "metadata": {},
   "outputs": [],
   "source": [
    "import shutil"
   ]
  },
  {
   "cell_type": "code",
   "execution_count": 2,
   "id": "1c87ed3c",
   "metadata": {},
   "outputs": [
    {
     "data": {
      "text/plain": [
       "'Error occurred while copying file.'"
      ]
     },
     "execution_count": 2,
     "metadata": {},
     "output_type": "execute_result"
    }
   ],
   "source": [
    "class shutill:\n",
    "    \"\"\"\n",
    "    The class will take a source and destination file path and copies from\n",
    "    source(src) to destination(dst)\n",
    "    \"\"\"\n",
    "    \n",
    "    def __init__(self, src, dst):\n",
    "        self.src = src\n",
    "        self.dst = dst\n",
    "    \n",
    "    def copy_content(self):\n",
    "        try:\n",
    "            copying = shutil.copy(self.src, self.dst)\n",
    "            if copying :\n",
    "                return \"Contents copied successfully\"\n",
    "            else:\n",
    "                return \"Contens not copied\"\n",
    "        except shutil.SameFileError:\n",
    "            \n",
    "            return \"Source and destination represents the same file.\"\n",
    " \n",
    "        # If there is any permission issue\n",
    "        except PermissionError:\n",
    "            \n",
    "            return \"Permission denied.\"\n",
    "\n",
    "        # For other errors\n",
    "        except:\n",
    "            return \"Error occurred while copying file.\"\n",
    "    def copy_dir(self):\n",
    "        try:\n",
    "            path = \"/Users/macbookpro/Downloads/\"\n",
    "            copying = shutil.copytree(path + self.src, path + self.dst)\n",
    "            if copying :\n",
    "                return \"Contents copied successfully\"\n",
    "            else:\n",
    "                return \"Contens not copied\"\n",
    "        except shutil.SameFileError:\n",
    "            \n",
    "            return \"Source and destination represents the same file.\"\n",
    " \n",
    "        # If there is any permission issue\n",
    "        except PermissionError:\n",
    "            \n",
    "            return \"Permission denied.\"\n",
    "\n",
    "        # For other errors\n",
    "        except:\n",
    "            return \"Error occurred while copying file.\"\n",
    "        \n",
    "copy_class = shutill(\"Assignment_10.docx\", \"Downloads/\")\n",
    "\n",
    "copy_class.copy_dir()"
   ]
  },
  {
   "cell_type": "markdown",
   "id": "1c1f2765",
   "metadata": {},
   "source": [
    "### Answer\n",
    "\n",
    "<p> <strong>shutil.copy() copies a file content from source to destination file or directory, in case no base name was not specified in the destination path the base name from source path will be used </strong> </p>\n",
    "\n",
    "<p><strong> shutil.copytree() is a method used to copy a complete directory from a source directory to destination directory </strong></p>"
   ]
  },
  {
   "cell_type": "markdown",
   "id": "eaf37af6",
   "metadata": {},
   "source": [
    "### Question 2\n",
    "\n",
    "2. What function is used to rename files??\n",
    "\n",
    "### Answer\n",
    "\n",
    "The os.rename() is used to rename a file"
   ]
  },
  {
   "cell_type": "code",
   "execution_count": 3,
   "id": "3f738028",
   "metadata": {},
   "outputs": [],
   "source": [
    "import os\n",
    "def file_rename(old_file_name, new_file_name):\n",
    "    \"\"\"\n",
    "    This function takes two arguments:\n",
    "    old_file_name : The old file to be renamed\n",
    "    new_file_name : The new name that the old file will be renamed\n",
    "    \"\"\"\n",
    "    \n",
    "    try:\n",
    "        result = os.rename(old_file_name, new_file_name)\n",
    "        if result:\n",
    "            return str(\"The file has been renamed\")\n",
    "        return str(\"The file cannot be renamed\")\n",
    "    except FileNotFoundError as F:\n",
    "        return str(F)"
   ]
  },
  {
   "cell_type": "code",
   "execution_count": 4,
   "id": "68a68b52",
   "metadata": {},
   "outputs": [
    {
     "data": {
      "text/plain": [
       "\"[Errno 2] No such file or directory: 'old.txt' -> 'new.txt'\""
      ]
     },
     "execution_count": 4,
     "metadata": {},
     "output_type": "execute_result"
    }
   ],
   "source": [
    "old_name = \"old.txt\"\n",
    "new_name = \"new.txt\"\n",
    "\n",
    "file_rename(old_name, new_name)"
   ]
  },
  {
   "cell_type": "markdown",
   "id": "587085ab",
   "metadata": {},
   "source": [
    "### Question 3\n",
    "\n",
    "3. What is the difference between the delete functions in the send2trash and shutil modules?\n",
    "\n",
    "### Answer \n",
    "\n",
    "The send2trash sends a file or directory to a computer bin while shutil.rmtree() deletes a file or directory recursively\n",
    "\n",
    "A small logic to prove"
   ]
  },
  {
   "cell_type": "code",
   "execution_count": 5,
   "id": "7392ae66",
   "metadata": {},
   "outputs": [
    {
     "name": "stdout",
     "output_type": "stream",
     "text": [
      "Requirement already satisfied: send2trash in /Applications/anaconda3/lib/python3.10/site-packages (1.8.0)\r\n"
     ]
    }
   ],
   "source": [
    "!pip install send2trash"
   ]
  },
  {
   "cell_type": "code",
   "execution_count": 6,
   "id": "128ea579",
   "metadata": {},
   "outputs": [
    {
     "data": {
      "text/plain": [
       "'An error has occured'"
      ]
     },
     "execution_count": 6,
     "metadata": {},
     "output_type": "execute_result"
    }
   ],
   "source": [
    "from send2trash import send2trash\n",
    "def file_remove(file_path, method):\n",
    "    \"\"\"\n",
    "    The function takes two arguments: >>>>>\n",
    "    file_path: str-Takes a file path\n",
    "    method: int-Takes only integer values to choose which method to use to delete. either 1 or 2\n",
    "    \"\"\"\n",
    "    try:\n",
    "        if os.path.exists(file_path) and method == 1:\n",
    "            print(\"You are sending file to trash\")\n",
    "            send2trash(file_path)\n",
    "        elif os.path.exists(file_path) and method == 2:\n",
    "            print(\"You are recursively deleting a diretory\")\n",
    "            shutil.rmtree(file_path)\n",
    "        else:\n",
    "            return \"An error has occured\"\n",
    "    except Exception as e:\n",
    "        return str(e)\n",
    "    \n",
    "    \n",
    "file_remove(\"/Users/macbookpro/Downloads/seattle-weather 2.csv\", 1)"
   ]
  },
  {
   "cell_type": "markdown",
   "id": "36c9d898",
   "metadata": {},
   "source": [
    "### Question 4\n",
    "\n",
    "\n",
    "4.ZipFile objects have a close() method just like File objects’ close() method. What ZipFile method is\n",
    "equivalent to File objects’ open() method?\n",
    "\n",
    "\n",
    "### Answer\n",
    "\n",
    "The open method is also the equivalent method to open a zipfile, we will write a code to prove this"
   ]
  },
  {
   "cell_type": "code",
   "execution_count": 7,
   "id": "f0cd5654",
   "metadata": {},
   "outputs": [],
   "source": [
    "from zipfile import ZipFile"
   ]
  },
  {
   "cell_type": "code",
   "execution_count": 8,
   "id": "5f580df6",
   "metadata": {},
   "outputs": [
    {
     "name": "stdout",
     "output_type": "stream",
     "text": [
      "Printing all the files in the zip files\n",
      "File Name                                             Modified             Size\n",
      "RegressionandLasso-master/                     2019-12-11 10:04:40            0\n",
      "RegressionandLasso-master/Lassoand Regression.ipynb 2019-12-11 10:04:40        58113\n",
      "RegressionandLasso-master/README.md            2019-12-11 10:04:40           20\n",
      "None\n",
      "Reading content of file in the read file\n",
      "# RegressionandLasso\n"
     ]
    }
   ],
   "source": [
    "with ZipFile(\"/Users/macbookpro/Downloads/RegressionandLasso-master.zip\", \"r\") as zipfiles:\n",
    "    print(\"Printing all the files in the zip files\")\n",
    "    print(zipfiles.printdir())\n",
    "    with zipfiles.open(\"RegressionandLasso-master/README.md\", \"r\") as file:\n",
    "        content = file.read()\n",
    "        print(\"Reading content of file in the read file\")\n",
    "        print(content.decode(\"utf-8\"))"
   ]
  },
  {
   "cell_type": "markdown",
   "id": "20b1036f",
   "metadata": {},
   "source": [
    "### Question 5\n",
    "\n",
    "\n",
    "5. Create a programme that searches a folder tree for files with a certain file extension (such as .pdf\n",
    "or .jpg). Copy these files from whatever location they are in to a new folder.\n"
   ]
  },
  {
   "cell_type": "code",
   "execution_count": 27,
   "id": "cde12eda",
   "metadata": {},
   "outputs": [],
   "source": [
    "def copy_files(source, extension, destination):\n",
    "    \n",
    "    file_names = []\n",
    "    for file_name in os.listdir(source):\n",
    "        if file_name.endswith(extension):\n",
    "            sources = source + file_name\n",
    "            shutil.copy(sources, destination)\n",
    "            file_names.append(file_name)\n",
    "            print(\"Copied\", file_name)\n",
    "    return f\"The files copied are {len(file_names)}\""
   ]
  },
  {
   "cell_type": "code",
   "execution_count": 28,
   "id": "3daa6138",
   "metadata": {},
   "outputs": [
    {
     "name": "stdout",
     "output_type": "stream",
     "text": [
      "Copied 0_5G-Nework-Architecture-Whitepaper-en.pdf\n",
      "Copied Learning Content for FREE AI Classes in Every City 2023.pdf\n",
      "Copied CSC410 L3 - Computer Systems Performance & Evaluation.pdf\n",
      "Copied 3-NaiveBayes_KNN.pdf\n",
      "Copied new_oneMiracle Akpika (1).pdf\n",
      "Copied CSC410 L6 - Computer Systems Performance & Evaluation.pdf\n",
      "Copied new_oneMiracle Akpika.pdf\n",
      "Copied CSC410 L2 - Computer Systems Performance & Evaluation.pdf\n",
      "Copied new_oneletterhead______.pdf\n",
      "Copied new_oneLearning Content for FREE AI Classes in Every City 2023 (1).pdf\n",
      "Copied 15CPB_AutonomousDriving.pdf\n",
      "Copied FACULTY_DUE_RETURNING_STUDENTS_Payment_Receipt_Letter.pdf\n",
      "Copied CSC410 L5 - Computer Systems Performance & Evaluation.pdf\n",
      "Copied new_oneLATE_REGISTRATION_AND_PENALTY_Payment_Receipt_Letter.pdf\n",
      "Copied Miracle Akpika (1).pdf\n",
      "Copied CSC410 L1 - Computer Systems Performance & Evaluation.pdf\n",
      "Copied LATE_REGISTRATION_AND_PENALTY_Payment_Receipt_Letter.pdf\n",
      "Copied Data Science.pdf\n",
      "Copied CSC410 L4 - Computer Systems Performance & Evaluation.pdf\n",
      "Copied new_oneCSC410 L1 - Computer Systems Performance & Evaluation.pdf\n",
      "Copied new_oneFACULTY_DUE_RETURNING_STUDENTS_Payment_Receipt_Letter.pdf\n",
      "Copied new_one3-NaiveBayes_KNN.pdf\n",
      "Copied new_oneCSC410 L5 - Computer Systems Performance & Evaluation.pdf\n",
      "Copied new_onecl_iot_wp_07_14.pdf\n",
      "Copied Learning Content for FREE AI Classes in Every City 2023 (1).pdf\n",
      "Copied new_oneCSC410 L4 - Computer Systems Performance & Evaluation.pdf\n",
      "Copied Miracle Akpika.pdf\n",
      "Copied new_oneVictor's Resume.pdf\n",
      "Copied letterhead______.pdf\n",
      "Copied new_oneCSC410 L3 - Computer Systems Performance & Evaluation.pdf\n",
      "Copied new_one15CPB_AutonomousDriving.pdf\n",
      "Copied cl_iot_wp_07_14.pdf\n",
      "Copied new_one0_5G-Nework-Architecture-Whitepaper-en.pdf\n",
      "Copied new_oneLearning Content for FREE AI Classes in Every City 2023.pdf\n",
      "Copied EXPERTSA3.pdf\n",
      "Copied new_oneData Science.pdf\n",
      "Copied new_oneCSC410 L2 - Computer Systems Performance & Evaluation.pdf\n",
      "Copied Victor's Resume.pdf\n",
      "Copied new_oneCSC410 L6 - Computer Systems Performance & Evaluation.pdf\n",
      "Copied new_oneEXPERTSA3.pdf\n"
     ]
    },
    {
     "data": {
      "text/plain": [
       "'The files copied are 40'"
      ]
     },
     "execution_count": 28,
     "metadata": {},
     "output_type": "execute_result"
    }
   ],
   "source": [
    "copy_files(\"/Users/macbookpro/Downloads/\", \".pdf\", \"/Users/macbookpro/Downloads/new_one\")"
   ]
  },
  {
   "cell_type": "code",
   "execution_count": null,
   "id": "728cc701",
   "metadata": {},
   "outputs": [],
   "source": []
  }
 ],
 "metadata": {
  "kernelspec": {
   "display_name": "Python 3 (ipykernel)",
   "language": "python",
   "name": "python3"
  },
  "language_info": {
   "codemirror_mode": {
    "name": "ipython",
    "version": 3
   },
   "file_extension": ".py",
   "mimetype": "text/x-python",
   "name": "python",
   "nbconvert_exporter": "python",
   "pygments_lexer": "ipython3",
   "version": "3.10.9"
  }
 },
 "nbformat": 4,
 "nbformat_minor": 5
}
