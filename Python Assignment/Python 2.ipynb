{
 "cells": [
  {
   "cell_type": "markdown",
   "id": "0066f990",
   "metadata": {},
   "source": [
    "### Question 1\n",
    "\n",
    "1.What are the two values of the Boolean data type? How do you write them?"
   ]
  },
  {
   "cell_type": "markdown",
   "id": "7b5e0548",
   "metadata": {},
   "source": [
    "### Answer 1\n",
    "\n",
    "The 2 types of Boolean data types are True and False\n",
    "\n",
    "They are written as True and False respectively"
   ]
  },
  {
   "cell_type": "markdown",
   "id": "322455ee",
   "metadata": {},
   "source": [
    "### Question 2\n",
    "\n",
    "2. What are the three different types of Boolean operators?"
   ]
  },
  {
   "cell_type": "markdown",
   "id": "dda9586a",
   "metadata": {},
   "source": [
    "### Answer 2\n",
    "\n",
    "The three types of Boolean Operators are given below\n",
    "\n",
    "AND, OR and NOT"
   ]
  },
  {
   "cell_type": "markdown",
   "id": "0d9383aa",
   "metadata": {},
   "source": [
    "### Question 3\n",
    "\n",
    "3. Make a list of each Boolean operator&#39;s truth tables (i.e. every possible combination of Boolean\n",
    "values for the operator and what it evaluate )."
   ]
  },
  {
   "cell_type": "markdown",
   "id": "46494ecb",
   "metadata": {},
   "source": [
    "### Answer 3\n",
    "\n",
    "<table>\n",
    "    <tr>\n",
    "        <thead style=\"text-align:center;\"> A table that contains the operations of boolean operators</thead>\n",
    "        <th>X</th>\n",
    "        <th>Y</th>\n",
    "        <th>AND</th>\n",
    "        <th>OR</th>\n",
    "    </tr>\n",
    "    <tr>\n",
    "        <td>0</td>\n",
    "        <td>0</td>\n",
    "        <td>0</td>\n",
    "        <td>0</td>\n",
    "    </tr>\n",
    "    <tr>\n",
    "        <td>0</td>\n",
    "        <td>1</td>\n",
    "        <td>0</td>\n",
    "        <td>1</td>\n",
    "    </tr>\n",
    "    <tr>\n",
    "        <td>1</td>\n",
    "        <td>0</td>\n",
    "        <td>0</td>\n",
    "        <td>1</td>\n",
    "    </tr>\n",
    "    <tr>\n",
    "        <td>1</td>\n",
    "        <td>1</td>\n",
    "        <td>1</td>\n",
    "        <td>1</td>\n",
    "    </tr>\n",
    "</table>\n",
    "\n",
    "\n",
    "<table>\n",
    "  <tr>\n",
    "    <th>X</th>\n",
    "    <th>NOT</th>\n",
    "  </tr>\n",
    "  <tr>\n",
    "    <td>0</td>\n",
    "    <td>1</td>\n",
    "  </tr>\n",
    "  <tr>\n",
    "    <td>1</td>\n",
    "    <td>0</td>\n",
    "  </tr>\n",
    "</table>"
   ]
  },
  {
   "cell_type": "markdown",
   "id": "adf749c0",
   "metadata": {},
   "source": [
    "### Question 4\n",
    "\n",
    "4. What are the values of the following expressions?\n",
    "<ol>\n",
    "    <li>(5 > 4) and (3 == 5)</li>\n",
    "    <li>not (5 > 4)</li>\n",
    "    <li>(5 > 4) or (3 == 5)</li>\n",
    "    <li>not ((5 &gt; 4) or (3 == 5))</li>\n",
    "    <li>(True and True) and (True == False)</li>\n",
    "    <li>(not False) or (not True)</li>\n",
    "    \n",
    "</ol>"
   ]
  },
  {
   "cell_type": "markdown",
   "id": "7841eac8",
   "metadata": {},
   "source": [
    "### Answer\n",
    "\n",
    "A: FALSE OR 0\n",
    "B: FALSE OR 0\n",
    "C: TRUE OR 1\n",
    "D: FALSE OR 0\n",
    "E: FALSE OR 0\n",
    "F: TRUE OR 1"
   ]
  },
  {
   "cell_type": "markdown",
   "id": "d106bc9c",
   "metadata": {},
   "source": [
    "### Question 5\n",
    "\n",
    "5. What are the six comparison operators?"
   ]
  },
  {
   "cell_type": "markdown",
   "id": "0952647c",
   "metadata": {},
   "source": [
    "### Answer 5\n",
    "\n",
    "<ol>\n",
    "    <li>Greater Than (>) </li>\n",
    "    <li>Less Than (<) </li>\n",
    "    <li>Equal To (==) </li>\n",
    "    <li>Not Equal To (!=) </li>\n",
    "    <li>Greater Than Or Equal To (>=) </li>\n",
    "    <li>Less Than Or Equal To (<=) </li>\n",
    "</ol>"
   ]
  },
  {
   "cell_type": "markdown",
   "id": "a4f2b533",
   "metadata": {},
   "source": [
    "### Question 6\n",
    "6. How do you tell the difference between the equal to and assignment operators?Describe a\n",
    "condition and when you would use one."
   ]
  },
  {
   "cell_type": "markdown",
   "id": "f98691b6",
   "metadata": {},
   "source": [
    "### Answer 6\n",
    "\n",
    "The equal to \"=\" sign is an assignment symbol, used to assign a value to a variable\n",
    "While the double eaual to \"==\" is used to compare to variables or values\n",
    "\n",
    "x = 6 denotes assigning 6 to x, x is a label on a memory space\n",
    "x == 5 + 1 denotes that whatever is inside x before is same as the value of 5+1"
   ]
  },
  {
   "cell_type": "markdown",
   "id": "7590eba0",
   "metadata": {},
   "source": [
    "### Question 7, answer included\n",
    "\n",
    "\n",
    "7. Identify the three blocks in this code:\n",
    "spam = 0\n",
    "if spam == 10:  # a block\n",
    "print(\"eggs\")\n",
    "if spam > 5:    # another block\n",
    "print(\"bacon\")\n",
    "else:           # last block of code\n",
    "print(\"ham\")\n",
    "print(\"spam\")\n",
    "print(\"spam\")"
   ]
  },
  {
   "cell_type": "markdown",
   "id": "1519585c",
   "metadata": {},
   "source": [
    "### Question 8\n",
    "\n",
    "8. Write code that prints Hello if 1 is stored in spam, prints Howdy if 2 is stored in spam, and prints / Greetings! if anything else is stored in spam.\n",
    " "
   ]
  },
  {
   "cell_type": "code",
   "execution_count": 1,
   "id": "8a9547ca",
   "metadata": {},
   "outputs": [
    {
     "name": "stdout",
     "output_type": "stream",
     "text": [
      "3\n",
      "Greetings\n"
     ]
    }
   ],
   "source": [
    "spam = input()\n",
    "\n",
    "if spam == \"1\":\n",
    "    print(\"Hello\")\n",
    "elif spam == \"2\":\n",
    "    print(\"Howdy\")\n",
    "else:\n",
    "    print(\"Greetings\")"
   ]
  },
  {
   "cell_type": "markdown",
   "id": "f21e43e5",
   "metadata": {},
   "source": [
    "### Question 9\n",
    "\n",
    "9.If your programme is stuck in an endless loop, what keys you’ll press?"
   ]
  },
  {
   "cell_type": "markdown",
   "id": "0202a4b7",
   "metadata": {},
   "source": [
    "### Answer 9\n",
    "\n",
    "When in an endless loop, pressing CTRL + C, will end the loop"
   ]
  },
  {
   "cell_type": "markdown",
   "id": "35b9764d",
   "metadata": {},
   "source": [
    "### Question 10\n",
    "\n",
    "10. How can you tell the difference between break and continue?"
   ]
  },
  {
   "cell_type": "markdown",
   "id": "1e4876aa",
   "metadata": {},
   "source": [
    "### Answer 10\n",
    "\n",
    "When in a loop, either infinte or finite, when a certain condition is met, break statement will break from the loop\n",
    "while continue will continue with the program execution"
   ]
  },
  {
   "cell_type": "code",
   "execution_count": 4,
   "id": "24a6f688",
   "metadata": {},
   "outputs": [
    {
     "name": "stdout",
     "output_type": "stream",
     "text": [
      "0\n",
      "1\n",
      "2\n",
      "3\n",
      "4\n",
      "5\n"
     ]
    }
   ],
   "source": [
    "# program to prove\n",
    "\n",
    "i = 0\n",
    "\n",
    "while True:\n",
    "    print(i)\n",
    "    i += 1\n",
    "    if i > 5:\n",
    "        break"
   ]
  },
  {
   "cell_type": "code",
   "execution_count": 8,
   "id": "90b4fa58",
   "metadata": {},
   "outputs": [
    {
     "name": "stdout",
     "output_type": "stream",
     "text": [
      "1\n",
      "3\n",
      "5\n",
      "7\n",
      "9\n",
      "11\n",
      "13\n",
      "15\n",
      "17\n",
      "19\n"
     ]
    }
   ],
   "source": [
    "for i in range(20):\n",
    "    if i % 2 == 1:\n",
    "        print(i)\n",
    "        continue"
   ]
  },
  {
   "cell_type": "markdown",
   "id": "44b5eb5f",
   "metadata": {},
   "source": [
    "### Question 11\n",
    "\n",
    "11. In a for loop, what is the difference between range(10), range(0, 10), and range(0, 10, 1)?"
   ]
  },
  {
   "cell_type": "markdown",
   "id": "8c014a40",
   "metadata": {},
   "source": [
    "### Answer 11\n",
    "\n",
    "A: range(10) generates a range of number from 0-9\n",
    "B: range(10) generates a range of number from 0-9 without a step size\n",
    "c : range(10) generates a range of number from 0-9 with a step size of 1"
   ]
  },
  {
   "cell_type": "code",
   "execution_count": 12,
   "id": "989e1412",
   "metadata": {},
   "outputs": [
    {
     "name": "stdout",
     "output_type": "stream",
     "text": [
      "[0, 1, 2, 3, 4, 5, 6, 7, 8, 9]\n",
      "[0, 1, 2, 3, 4, 5, 6, 7, 8, 9]\n",
      "[0, 1, 2, 3, 4, 5, 6, 7, 8, 9]\n"
     ]
    }
   ],
   "source": [
    "print(list(range(0,10,1)))\n",
    "print(list(range(10)))\n",
    "print(list(range(0,10)))"
   ]
  },
  {
   "cell_type": "markdown",
   "id": "82f540db",
   "metadata": {},
   "source": [
    "### Question 12\n",
    "\n",
    "12. Write a short program that prints the numbers 1 to 10 using a for loop. Then write an equivalent\n",
    "program that prints the numbers 1 to 10 using a while loop."
   ]
  },
  {
   "cell_type": "code",
   "execution_count": 14,
   "id": "29b31baa",
   "metadata": {},
   "outputs": [
    {
     "name": "stdout",
     "output_type": "stream",
     "text": [
      "1\n",
      "2\n",
      "3\n",
      "4\n",
      "5\n",
      "6\n",
      "7\n",
      "8\n",
      "9\n",
      "10\n"
     ]
    }
   ],
   "source": [
    "# Answer 12.a\n",
    "# using while loop first\n",
    "\n",
    "i = 1\n",
    "while i <= 10:\n",
    "    print(i)\n",
    "    i += 1"
   ]
  },
  {
   "cell_type": "code",
   "execution_count": 16,
   "id": "514118d6",
   "metadata": {},
   "outputs": [
    {
     "name": "stdout",
     "output_type": "stream",
     "text": [
      "1\n",
      "2\n",
      "3\n",
      "4\n",
      "5\n",
      "6\n",
      "7\n",
      "8\n",
      "9\n",
      "10\n"
     ]
    }
   ],
   "source": [
    "# Answer 12.b\n",
    "# using for loop second\n",
    "for i in range(1,11):\n",
    "    print(i)"
   ]
  },
  {
   "cell_type": "markdown",
   "id": "736ec28e",
   "metadata": {},
   "source": [
    "### Question 13\n",
    "\n",
    "13. If you had a function named bacon() inside a module named spam, how would you call it after\n",
    "importing spam?"
   ]
  },
  {
   "cell_type": "markdown",
   "id": "fa99dae8",
   "metadata": {},
   "source": [
    "### Answer 13\n",
    "\n",
    "Assuming you have a function bacon() in a module called spam, to use it in another module, you can do one of the followming\n",
    "\n",
    "<p>from spam import bacon </p>\n",
    "<p>or</p>\n",
    "<p>import spam</p>\n",
    "<p>spam.bacon()</p>"
   ]
  },
  {
   "cell_type": "code",
   "execution_count": null,
   "id": "aa07448c",
   "metadata": {},
   "outputs": [],
   "source": []
  }
 ],
 "metadata": {
  "kernelspec": {
   "display_name": "Python 3 (ipykernel)",
   "language": "python",
   "name": "python3"
  },
  "language_info": {
   "codemirror_mode": {
    "name": "ipython",
    "version": 3
   },
   "file_extension": ".py",
   "mimetype": "text/x-python",
   "name": "python",
   "nbconvert_exporter": "python",
   "pygments_lexer": "ipython3",
   "version": "3.10.9"
  }
 },
 "nbformat": 4,
 "nbformat_minor": 5
}
