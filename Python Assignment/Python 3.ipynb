{
 "cells": [
  {
   "cell_type": "markdown",
   "id": "6b1d5df0",
   "metadata": {},
   "source": [
    "### Question 1\n",
    "\n",
    "1. Why are functions advantageous to have in your programs?"
   ]
  },
  {
   "cell_type": "markdown",
   "id": "c1c91b6e",
   "metadata": {},
   "source": [
    "### Answer 1\n",
    "\n",
    "Functions are reusable blocks of codes, they are useful because they can be called severally to solve similar problems"
   ]
  },
  {
   "cell_type": "markdown",
   "id": "2dce160d",
   "metadata": {},
   "source": [
    "### Question 2\n",
    "\n",
    "2. When does the code in a function run: when it&#39;s specified or when it&#39;s called?"
   ]
  },
  {
   "cell_type": "markdown",
   "id": "808ec7f1",
   "metadata": {},
   "source": [
    "### Answer 2\n",
    "\n",
    "A function at declaration or definition is dead until it is called or invoked"
   ]
  },
  {
   "cell_type": "markdown",
   "id": "6b7b9932",
   "metadata": {},
   "source": [
    "### Question 3\n",
    "\n",
    "3. What statement creates a function?"
   ]
  },
  {
   "cell_type": "markdown",
   "id": "0436fcac",
   "metadata": {},
   "source": [
    "### Answer 3\n",
    "\n",
    "The keyword \"def\" is used to define a function block"
   ]
  },
  {
   "cell_type": "markdown",
   "id": "b933839f",
   "metadata": {},
   "source": [
    "### Question 4\n",
    "\n",
    "4. What is the difference between a function and a function call?"
   ]
  },
  {
   "cell_type": "markdown",
   "id": "bcb3c64c",
   "metadata": {},
   "source": [
    "### Answer 4\n",
    "\n",
    "A function is a reusable block of codes while the function call is the invocation of a function, that is the calling to use of the functions, the \"function call\" is the execution of a function definition"
   ]
  },
  {
   "cell_type": "markdown",
   "id": "bd6e5f05",
   "metadata": {},
   "source": [
    "### Question 5\n",
    "\n",
    "5. How many global scopes are there in a Python program? How many local scopes?"
   ]
  },
  {
   "cell_type": "markdown",
   "id": "03667690",
   "metadata": {},
   "source": [
    "### Answer 5\n",
    "Both global variables and local variables are limitless in numbers, or rather say that the numbers of global and local variables that can be created is countless"
   ]
  },
  {
   "cell_type": "markdown",
   "id": "1de599e6",
   "metadata": {},
   "source": [
    "### Question 6\n",
    "\n",
    "6. What happens to variables in a local scope when the function call returns?"
   ]
  },
  {
   "cell_type": "markdown",
   "id": "da64c684",
   "metadata": {},
   "source": [
    "### Answer 6\n",
    "\n",
    "A variable defined within a function has a local scope and so it cannot be used anywhere else apart from tha function block of codes, outside the function, it is useless or not recognized"
   ]
  },
  {
   "cell_type": "markdown",
   "id": "5c9cc089",
   "metadata": {},
   "source": [
    "### Question 7\n",
    "7. What is the concept of a return value? Is it possible to have a return value in an expression?\n",
    "\n",
    "### Answer 7\n",
    "\n",
    "The return keyword is a statement used to send result of a function to the caller"
   ]
  },
  {
   "cell_type": "markdown",
   "id": "393c2894",
   "metadata": {},
   "source": [
    "### Question 8\n",
    "\n",
    "8. If a function does not have a return statement, what is the return value of a call to that function?\n",
    "\n",
    "### Answer 8\n",
    "\n",
    "If a return statement is not used in a function, the datatype of result from function becomes a NoneType"
   ]
  },
  {
   "cell_type": "markdown",
   "id": "0920d219",
   "metadata": {},
   "source": [
    "### Question 9\n",
    "\n",
    "9. How do you make a function variable refer to the global variable?\n",
    "\n",
    "### Answer 9\n",
    "\n",
    "By using the \"global\" keyword inside the function, therefore the value of the variable becomes accessible to the function"
   ]
  },
  {
   "cell_type": "code",
   "execution_count": 3,
   "id": "561614a5",
   "metadata": {},
   "outputs": [],
   "source": [
    "x = 5\n",
    "\n",
    "def simple_add(y):\n",
    "    global x\n",
    "    return x + y"
   ]
  },
  {
   "cell_type": "code",
   "execution_count": 4,
   "id": "c21a2959",
   "metadata": {},
   "outputs": [
    {
     "data": {
      "text/plain": [
       "13"
      ]
     },
     "execution_count": 4,
     "metadata": {},
     "output_type": "execute_result"
    }
   ],
   "source": [
    "simple_add(8)"
   ]
  },
  {
   "cell_type": "markdown",
   "id": "98d0d908",
   "metadata": {},
   "source": [
    "### Question 10\n",
    "\n",
    "10. What is the data type of None?\n",
    "\n",
    "### Answer 10\n",
    "\n",
    "The data type of \"None\" is \"NoneType\""
   ]
  },
  {
   "cell_type": "code",
   "execution_count": 6,
   "id": "9fee00b7",
   "metadata": {},
   "outputs": [
    {
     "data": {
      "text/plain": [
       "NoneType"
      ]
     },
     "execution_count": 6,
     "metadata": {},
     "output_type": "execute_result"
    }
   ],
   "source": [
    "type(None)"
   ]
  },
  {
   "cell_type": "markdown",
   "id": "73124a24",
   "metadata": {},
   "source": [
    "### Question 11\n",
    "\n",
    "11. What does the sentence import areallyourpetsnamederic do?\n",
    "\n",
    "### Answer 11\n",
    "\n",
    "\"areallyourpetsnamederic\" is a module imported to access all packages inside it, the functions, variables, classes, etc"
   ]
  },
  {
   "cell_type": "markdown",
   "id": "6a59ccb2",
   "metadata": {},
   "source": [
    "### Question 12\n",
    "\n",
    "12. If you had a bacon() feature in a spam module, what would you call it after importing spam?\n",
    "\n",
    "### Answer 12\n",
    "\n",
    "There are two different ways of calling bacon() from spam\n",
    "\n",
    "<ul>\n",
    "    <li>from spam import bacon</li>\n",
    "    <li>import spam.bacon</li>\n",
    "</ul>"
   ]
  },
  {
   "cell_type": "markdown",
   "id": "2707b04c",
   "metadata": {},
   "source": [
    "### Question 13\n",
    "\n",
    "13. What can you do to save a programme from crashing if it encounters an error?\n",
    "\n",
    "### Answer 13\n",
    "\n",
    "Using an exception handling is best to save a program from encountering a failure"
   ]
  },
  {
   "cell_type": "markdown",
   "id": "25a21900",
   "metadata": {},
   "source": [
    "### Question 14\n",
    "\n",
    "14. What is the purpose of the try clause? What is the purpose of the except clause?\n",
    "\n",
    "### Answer 14\n",
    "\n",
    "The \"try\" is the block where the code that will run stays\n",
    "The \"except\" is the block where we raise the error encountered and allows the rest of the program keeps running"
   ]
  },
  {
   "cell_type": "code",
   "execution_count": null,
   "id": "a3c92b46",
   "metadata": {},
   "outputs": [],
   "source": []
  }
 ],
 "metadata": {
  "kernelspec": {
   "display_name": "Python 3 (ipykernel)",
   "language": "python",
   "name": "python3"
  },
  "language_info": {
   "codemirror_mode": {
    "name": "ipython",
    "version": 3
   },
   "file_extension": ".py",
   "mimetype": "text/x-python",
   "name": "python",
   "nbconvert_exporter": "python",
   "pygments_lexer": "ipython3",
   "version": "3.10.9"
  }
 },
 "nbformat": 4,
 "nbformat_minor": 5
}
