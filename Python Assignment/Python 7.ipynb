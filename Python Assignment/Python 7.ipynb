{
 "cells": [
  {
   "cell_type": "markdown",
   "id": "7e7bd05e",
   "metadata": {},
   "source": [
    "### Question 1\n",
    "1.What is the name of the feature responsible for generating Regex objects?\n",
    "\n",
    "### Answer :\n",
    "\n",
    "The feature responsible for generating Regex objects in python is re.compile()"
   ]
  },
  {
   "cell_type": "markdown",
   "id": "c7d71db5",
   "metadata": {},
   "source": [
    "### Question 2\n",
    "\n",
    "2. Why do raw strings often appear in Regex objects?\n",
    "\n",
    "### Answer :\n",
    "Regex objects is created to search for patterns in strings, pattern matching, and manipulating strings.\n"
   ]
  },
  {
   "cell_type": "markdown",
   "id": "655cdea3",
   "metadata": {},
   "source": [
    "### Question 3\n",
    "\n",
    "3. What is the return value of the search() method?\n",
    "\n",
    "### Answer :\n",
    "\n",
    "The Search method returns True if pattern is seen in string, and returns false if it doesn't match any pattern"
   ]
  },
  {
   "cell_type": "code",
   "execution_count": 1,
   "id": "bd890b07",
   "metadata": {},
   "outputs": [
    {
     "name": "stdout",
     "output_type": "stream",
     "text": [
      "No Match Found\n"
     ]
    }
   ],
   "source": [
    "# for example\n",
    "\n",
    "import re\n",
    "\n",
    "check = re.search(\"Search\", \"The World is in of what it shouldn't for\")\n",
    "\n",
    "if check:\n",
    "    print(\"Match Found:\", check.group())\n",
    "else:\n",
    "    print(\"No Match Found\")"
   ]
  },
  {
   "cell_type": "markdown",
   "id": "3a7d2a6a",
   "metadata": {},
   "source": [
    "### Question 4\n",
    "\n",
    "4. From a Match item, how do you get the actual strings that match the pattern?\n",
    "\n",
    "### Answer :\n",
    "\n",
    "The group() returns the matched strings "
   ]
  },
  {
   "cell_type": "markdown",
   "id": "ced5d63e",
   "metadata": {},
   "source": [
    "### Question 5\n",
    "\n",
    "5. In the regex which created from the r&#39;(\\d\\d\\d)-(\\d\\d\\d-\\d\\d\\d\\d)&#39;, what does group zero cover? Group 2? Group 1?\n",
    "\n",
    "### Answer :\n",
    "\n",
    "The group 0 matches the whole patterns, while group 1 matches the first parentheses, and the third group matches the 3rd parentheses"
   ]
  },
  {
   "cell_type": "markdown",
   "id": "f35ec881",
   "metadata": {},
   "source": [
    "### Question 6\n",
    "\n",
    "6. In standard expression syntax, parentheses and intervals have distinct meanings. How can you tell a regex that you want it to fit real parentheses and periods?\n",
    "\n",
    "### Answer :\n",
    "\n",
    "Parentheses and periods have very important meanings in regular programming, they are metacharacters and can be escaped by using a backslash (\"\\\")"
   ]
  },
  {
   "cell_type": "code",
   "execution_count": 2,
   "id": "dd163725",
   "metadata": {},
   "outputs": [],
   "source": [
    "### To confirm\n",
    "def checker(text):\n",
    "    pattern = r\"\\(hello\\)\\.\"\n",
    "    \n",
    "    match = re.search(pattern, text)\n",
    "    \n",
    "    if match:\n",
    "        return \"Match Found\", match.group()\n",
    "    else :\n",
    "        return \"Match Not Found\""
   ]
  },
  {
   "cell_type": "code",
   "execution_count": 3,
   "id": "7447bfc9",
   "metadata": {},
   "outputs": [
    {
     "data": {
      "text/plain": [
       "'Match Not Found'"
      ]
     },
     "execution_count": 3,
     "metadata": {},
     "output_type": "execute_result"
    }
   ],
   "source": [
    "checker(\"(hello)\")"
   ]
  },
  {
   "cell_type": "code",
   "execution_count": 4,
   "id": "50299484",
   "metadata": {},
   "outputs": [
    {
     "data": {
      "text/plain": [
       "('Match Found', '(hello).')"
      ]
     },
     "execution_count": 4,
     "metadata": {},
     "output_type": "execute_result"
    }
   ],
   "source": [
    "checker(\"(hello).\")"
   ]
  },
  {
   "cell_type": "markdown",
   "id": "b9ac27a5",
   "metadata": {},
   "source": [
    "### Question 7\n",
    "\n",
    "7. The findall() method returns a string list or a list of string tuples. What causes it to return one of the two options?\n",
    "\n",
    "### Answer 7\n",
    "\n",
    "The findall() method returns a list of all strings that match a pattern, for example"
   ]
  },
  {
   "cell_type": "code",
   "execution_count": 6,
   "id": "58ba7f02",
   "metadata": {},
   "outputs": [
    {
     "data": {
      "text/plain": [
       "['foot', 'faster']"
      ]
     },
     "execution_count": 6,
     "metadata": {},
     "output_type": "execute_result"
    }
   ],
   "source": [
    "re.findall(r\"\\bf[A-Za-z]*\", \"The foot and bared were chopped off faster than all his body parts\")"
   ]
  },
  {
   "cell_type": "markdown",
   "id": "9964e6f6",
   "metadata": {},
   "source": [
    "### Question 8\n",
    "\n",
    "8. In standard expressions, what does the | character mean?\n",
    "\n",
    "### Answer :\n",
    "\n",
    "The | standardly means \"or\""
   ]
  },
  {
   "cell_type": "markdown",
   "id": "da1c8155",
   "metadata": {},
   "source": [
    "### Question 9\n",
    "\n",
    "9. In regular expressions, what does the character stand for?\n",
    "\n",
    "### Answer :\n",
    "\n",
    "The arbitrary | matches either one of two or more elements"
   ]
  },
  {
   "cell_type": "markdown",
   "id": "0177e34f",
   "metadata": {},
   "source": [
    "### Question 10\n",
    "\n",
    "10.In regular expressions, what is the difference between the + and * characters?\n",
    "\n",
    "### Answer 10\n",
    "\n",
    "The \"+\" will match 1 or more occurences of an element, for example \"AB+\" will match \"AB\" not just \"A\"\n",
    "\n",
    "The \"*\" will match 0 or more occurences of an element, for example \"AB*\" will match \"A\" and any number of \"B\""
   ]
  },
  {
   "cell_type": "markdown",
   "id": "4b1e90b3",
   "metadata": {},
   "source": [
    "### Question 11\n",
    "\n",
    "11. What is the difference between {4} and {4,5} in regular expression?\n",
    "\n",
    "### Answer :\n",
    "\n",
    "<p> <strong> The {4} will match 4 repetition of a preceeding character </strong> </p>\n",
    "<p> <strong> The {4,5} will match 4 to 5 repetition of a preceeding character </strong> </p>"
   ]
  },
  {
   "cell_type": "markdown",
   "id": "836c5c76",
   "metadata": {},
   "source": [
    "### Question 12\n",
    "\n",
    "12. What do you mean by the \\d, \\w, and \\s shorthand character classes signify in regular expressions?\n",
    "\n",
    "### Answer :\n",
    "\n",
    "The \\d matches the Unicode decimal digit, i.e [0-9]\n",
    "The \\w matches all the Unicode alphabets or word characters, i.e [a-zA-Z]\n",
    "The \\s matches all the whitespace"
   ]
  },
  {
   "cell_type": "markdown",
   "id": "e45f6c54",
   "metadata": {},
   "source": [
    "### Question 13\n",
    "\n",
    "13. What do means by \\D, \\W, and \\S shorthand character classes signify in regular expressions?\n",
    "\n",
    "### Answer :\n",
    "\n",
    "<p>The \\D matches the Unicode non decimal digit, i.e[ˆ0-9]</p>\n",
    "<p>The \\W matches the Unicode non word character, i.e[ˆA-Za-z]</p>\n",
    "<p>The \\S matches the Unicode non whitespace</p>"
   ]
  },
  {
   "cell_type": "markdown",
   "id": "ee3cfc51",
   "metadata": {},
   "source": [
    "### Question 14\n",
    "\n",
    "14. What is the difference between .* and .*?\n",
    "\n",
    "### Answer :\n",
    "\n",
    "The \".*\" performs match in a greedy way\n",
    "The \".*?\" reduces the matching, and it doesn't match all characters in a string"
   ]
  },
  {
   "cell_type": "markdown",
   "id": "535afa80",
   "metadata": {},
   "source": [
    "### Question 15\n",
    "\n",
    "15. What is the syntax for matching both numbers and lowercase letters with a character class?\n",
    "\n",
    "\n",
    "### Answer :\n",
    "\n",
    "Either use [a-z0-9] or [0-9a-z]"
   ]
  },
  {
   "cell_type": "markdown",
   "id": "b5e1af86",
   "metadata": {},
   "source": [
    "### Question 16\n",
    "\n",
    "16. What is the procedure for making a normal expression in regax case insensitive?\n",
    "\n",
    "### Answer :\n",
    "\n",
    "Passing re.I or re.IGNORECASE to either re.search or re.compile(), will make the searching case-insensitive"
   ]
  },
  {
   "cell_type": "markdown",
   "id": "64c8821c",
   "metadata": {},
   "source": [
    "### Question 17\n",
    "\n",
    "17. What does the . character normally match? What does it match if re.DOTALL is passed as 2nd argument in re.compile()?\n",
    "\n",
    "### Answer :\n",
    "The . matches any character except a newline, the re.DOTALL matches all characters with the newline"
   ]
  },
  {
   "cell_type": "code",
   "execution_count": null,
   "id": "669beaf5",
   "metadata": {},
   "outputs": [],
   "source": []
  }
 ],
 "metadata": {
  "kernelspec": {
   "display_name": "Python 3 (ipykernel)",
   "language": "python",
   "name": "python3"
  },
  "language_info": {
   "codemirror_mode": {
    "name": "ipython",
    "version": 3
   },
   "file_extension": ".py",
   "mimetype": "text/x-python",
   "name": "python",
   "nbconvert_exporter": "python",
   "pygments_lexer": "ipython3",
   "version": "3.10.9"
  }
 },
 "nbformat": 4,
 "nbformat_minor": 5
}
