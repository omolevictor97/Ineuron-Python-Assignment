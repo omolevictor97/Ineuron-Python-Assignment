{
 "cells": [
  {
   "cell_type": "markdown",
   "id": "becf39cb",
   "metadata": {},
   "source": [
    "### QUESTION 1\n",
    "\n",
    "1. What are escape characters, and how do you use them?\n",
    "\n",
    "### ANSWER 1\n",
    "\n",
    "An escape character is a character when used within another character doesn't mean what it looks like, it is always preceeded by a backslash \"\\\""
   ]
  },
  {
   "cell_type": "markdown",
   "id": "65ce9cdd",
   "metadata": {},
   "source": [
    "### QUESTION 2\n",
    "\n",
    "2. What do the escape characters n and t stand for?\n",
    "\n",
    "### ANSWER 2\n",
    "\n",
    "The \\n allows a character to start on a new line, while \\t allows a character to start at a new tab"
   ]
  },
  {
   "cell_type": "code",
   "execution_count": 1,
   "id": "f93b7f21",
   "metadata": {},
   "outputs": [
    {
     "name": "stdout",
     "output_type": "stream",
     "text": [
      "The boy stated carefully that he wanted some ice-cream. \n",
      " His mother wouldn't get it for \t him\n"
     ]
    }
   ],
   "source": [
    "## A little backing for my answer\n",
    "\n",
    "print(\"The boy stated carefully that he wanted some ice-cream. \\n His mother wouldn't get it for \\t him\")"
   ]
  },
  {
   "cell_type": "markdown",
   "id": "b75343a7",
   "metadata": {},
   "source": [
    "### QUESTION 3\n",
    "3. What is the way to include backslash characters in a string?\n",
    "\n",
    "### ANSWER 3\n",
    "\n",
    "You include a backslash before the character you intend to use it on"
   ]
  },
  {
   "cell_type": "markdown",
   "id": "1bd3aa46",
   "metadata": {},
   "source": [
    "### QUESTION 4\n",
    "\n",
    "4. The string &quot;Howl&#39;s Moving Castle&quot; is a correct value. Why isn&#39;t the single quote character in the\n",
    "word Howl&#39;s not escaped a problem?"
   ]
  },
  {
   "cell_type": "markdown",
   "id": "79f78190",
   "metadata": {},
   "source": [
    "### ANSWER 4\n",
    "\n",
    "Because the quotation marks are different from each other"
   ]
  },
  {
   "cell_type": "markdown",
   "id": "2755dfd2",
   "metadata": {},
   "source": [
    "### QUESTION 5\n",
    "\n",
    "5. How do you write a string of newlines if you don&#39;t want to use the n character?\n",
    "\n",
    "### ANSWER 5\n",
    "\n",
    "You can write a multi-line string without the backslash n \"\\n\" by using a triple \"\"\"quotation\"\"\""
   ]
  },
  {
   "cell_type": "code",
   "execution_count": 2,
   "id": "996c3af7",
   "metadata": {},
   "outputs": [
    {
     "name": "stdout",
     "output_type": "stream",
     "text": [
      "My name is victor\n",
      "I am a programmer\n"
     ]
    }
   ],
   "source": [
    "print(\"\"\"My name is victor\n",
    "I am a programmer\"\"\")"
   ]
  },
  {
   "cell_type": "markdown",
   "id": "e2484df7",
   "metadata": {},
   "source": [
    "### QUESTION 6\n",
    "\n",
    "6. What are the values of the given expressions?\n",
    "<ol>\n",
    "    <li>&#39;Hello, world!&#39;[1]</li>\n",
    "    <li>&#39;Hello, world!&#39;[0:5]</li>\n",
    "    <li>&#39;Hello, world!&#39;[:5]</li>\n",
    "    <li>&#39;Hello, world!&#39;[3:]</li>\n",
    "</ol>"
   ]
  },
  {
   "cell_type": "code",
   "execution_count": 3,
   "id": "c5691ab0",
   "metadata": {},
   "outputs": [
    {
     "name": "stdout",
     "output_type": "stream",
     "text": [
      "e\n"
     ]
    }
   ],
   "source": [
    "print(\"Hello, world!\"[1])"
   ]
  },
  {
   "cell_type": "code",
   "execution_count": 4,
   "id": "97368c04",
   "metadata": {},
   "outputs": [
    {
     "name": "stdout",
     "output_type": "stream",
     "text": [
      "Hello\n"
     ]
    }
   ],
   "source": [
    "print('Hello, world!'[0:5])"
   ]
  },
  {
   "cell_type": "code",
   "execution_count": 5,
   "id": "ea5f6dd3",
   "metadata": {},
   "outputs": [
    {
     "name": "stdout",
     "output_type": "stream",
     "text": [
      "Hello\n"
     ]
    }
   ],
   "source": [
    "print('Hello, world!'[:5])"
   ]
  },
  {
   "cell_type": "code",
   "execution_count": 6,
   "id": "ef652102",
   "metadata": {},
   "outputs": [
    {
     "name": "stdout",
     "output_type": "stream",
     "text": [
      "lo, world!\n"
     ]
    }
   ],
   "source": [
    "print('Hello, world!'[3:])"
   ]
  },
  {
   "cell_type": "markdown",
   "id": "d15880b2",
   "metadata": {},
   "source": [
    "### QUESTION 7\n",
    "\n",
    "\n",
    "7. What are the values of the following expressions?\n",
    "&#39;Hello&#39;.upper()\n",
    "&#39;Hello&#39;.upper().isupper()\n",
    "&#39;Hello&#39;.upper().lower()"
   ]
  },
  {
   "cell_type": "code",
   "execution_count": 7,
   "id": "6779ff4a",
   "metadata": {},
   "outputs": [
    {
     "name": "stdout",
     "output_type": "stream",
     "text": [
      "HELLO\n"
     ]
    }
   ],
   "source": [
    "print(\"Hello\".upper())"
   ]
  },
  {
   "cell_type": "code",
   "execution_count": 8,
   "id": "70f7c28f",
   "metadata": {},
   "outputs": [
    {
     "name": "stdout",
     "output_type": "stream",
     "text": [
      "True\n"
     ]
    }
   ],
   "source": [
    "print(\"Hello\".upper().isupper())"
   ]
  },
  {
   "cell_type": "code",
   "execution_count": 9,
   "id": "86052fe2",
   "metadata": {},
   "outputs": [
    {
     "name": "stdout",
     "output_type": "stream",
     "text": [
      "hello\n"
     ]
    }
   ],
   "source": [
    "print(\"Hello\".upper().lower())"
   ]
  },
  {
   "cell_type": "markdown",
   "id": "e75c29f2",
   "metadata": {},
   "source": [
    "### QUESTION 8\n",
    "\n",
    "&#39;Remember, remember, the fifth of July.&#39;.split()\n",
    "&#39;-&#39;.join(&#39;There can only one.&#39;.split())"
   ]
  },
  {
   "cell_type": "code",
   "execution_count": 12,
   "id": "fd39cb3e",
   "metadata": {},
   "outputs": [
    {
     "name": "stdout",
     "output_type": "stream",
     "text": [
      "['Remember,', 'remember,', 'the', 'fifth', 'of', 'July.']\n",
      "There-can-only-one.\n"
     ]
    }
   ],
   "source": [
    "## Answer \n",
    "\n",
    "var = 'Remember, remember, the fifth of July.'.split()\n",
    "\n",
    "print(var)\n",
    "print('-'.join('There can only one.'.split()))\n",
    "\n",
    "### It is return a list of values separated at every empty space"
   ]
  },
  {
   "cell_type": "markdown",
   "id": "3a85da41",
   "metadata": {},
   "source": [
    "### QUESTION 9\n",
    "\n",
    "What are the methods for right-justifying, left-justifying, and centering a string?"
   ]
  },
  {
   "cell_type": "code",
   "execution_count": 14,
   "id": "9d9879d2",
   "metadata": {},
   "outputs": [
    {
     "name": "stdout",
     "output_type": "stream",
     "text": [
      "      text\n",
      "text      \n",
      "   text   \n"
     ]
    }
   ],
   "source": [
    "### To answer we must give a code\n",
    "\n",
    "print(\"text\".rjust(10))\n",
    "print(\"text\".ljust(10))\n",
    "print(\"text\".center(10))"
   ]
  },
  {
   "cell_type": "markdown",
   "id": "aa509e30",
   "metadata": {},
   "source": [
    "### QUESTION 10\n",
    "\n",
    "10. What is the best way to remove whitespace characters from the start or end?\n",
    "\n",
    "### ANSWER 10\n",
    "\n",
    "We use .strip to remove whitespace from both left and right of a string"
   ]
  },
  {
   "cell_type": "code",
   "execution_count": 15,
   "id": "2df4d390",
   "metadata": {},
   "outputs": [
    {
     "name": "stdout",
     "output_type": "stream",
     "text": [
      "text is free...\n"
     ]
    }
   ],
   "source": [
    "print(\"  text is free... \".strip())"
   ]
  },
  {
   "cell_type": "code",
   "execution_count": null,
   "id": "e79797b5",
   "metadata": {},
   "outputs": [],
   "source": []
  }
 ],
 "metadata": {
  "kernelspec": {
   "display_name": "Python 3 (ipykernel)",
   "language": "python",
   "name": "python3"
  },
  "language_info": {
   "codemirror_mode": {
    "name": "ipython",
    "version": 3
   },
   "file_extension": ".py",
   "mimetype": "text/x-python",
   "name": "python",
   "nbconvert_exporter": "python",
   "pygments_lexer": "ipython3",
   "version": "3.10.9"
  }
 },
 "nbformat": 4,
 "nbformat_minor": 5
}
