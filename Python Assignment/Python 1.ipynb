{
 "cells": [
  {
   "cell_type": "markdown",
   "id": "16be38e9",
   "metadata": {},
   "source": [
    "### Question 1\n",
    "1. In the below elements which of them are values or an expression? eg:- values can be\n",
    "integer or string and expressions will be mathematical operators.\n",
    "*\n",
    "&#39;hello&#39;\n",
    "-87.8\n",
    "-\n",
    "/\n",
    "+\n",
    "6"
   ]
  },
  {
   "cell_type": "markdown",
   "id": "67c2d98c",
   "metadata": {},
   "source": [
    "### Answer 1\n",
    "\n",
    "values are \"hello\", -87.8, 6\n",
    "\n",
    "when expressions are *, -, /, +"
   ]
  },
  {
   "cell_type": "markdown",
   "id": "1e498b35",
   "metadata": {},
   "source": [
    "### Question 2\n",
    "\n",
    "2. What is the difference between string and variable?"
   ]
  },
  {
   "cell_type": "markdown",
   "id": "72ad2daf",
   "metadata": {},
   "source": [
    "### Answer 2\n",
    "\n",
    "A string is a value that is quoted, any character in a double quotes \"\" or single quotes '', or triple quotes \"\"\"\"\"\" are all strings\n",
    "\n",
    "A variable is a value that can change at anytime of program"
   ]
  },
  {
   "cell_type": "markdown",
   "id": "a89bdcde",
   "metadata": {},
   "source": [
    "### Question 3\n",
    "\n",
    "3. Describe three different data types."
   ]
  },
  {
   "cell_type": "markdown",
   "id": "e3eae3e1",
   "metadata": {},
   "source": [
    "### Answer 3\n",
    "\n",
    "String is a data type which is enclosed in a triple, or double or single quotes\n",
    "integer is a data type that represents numbers without a decimal point\n",
    "floats represents numbers that have a decimal point\n",
    "dictionary are key-value collections\n",
    "boolean are data types represented by either True or False always"
   ]
  },
  {
   "cell_type": "markdown",
   "id": "975b038a",
   "metadata": {},
   "source": [
    "### Question 4 \n",
    "4.What is an expression made up of? What do all expressions do?"
   ]
  },
  {
   "cell_type": "markdown",
   "id": "0b387bc4",
   "metadata": {},
   "source": [
    "### Answer 4\n",
    "\n",
    "An expression is a combination of operators and operands, they form what a program is"
   ]
  },
  {
   "cell_type": "markdown",
   "id": "5b2d42cb",
   "metadata": {},
   "source": [
    "### Question 5\n",
    "5. This assignment statements, like spam = 10. What is the difference between an\n",
    "expression and a statement?\n"
   ]
  },
  {
   "cell_type": "markdown",
   "id": "9a103750",
   "metadata": {},
   "source": [
    "### Answer 5\n",
    "\n",
    "An expression is a value, just like \"spam\", \"=\" and \"10\"\n",
    "A statement gives the value, or ends up providing a value"
   ]
  },
  {
   "cell_type": "markdown",
   "id": "bd471d94",
   "metadata": {},
   "source": [
    "### Question 6\n",
    "\n",
    "6. After running the following code, what does the variable bacon contain?\n",
    "bacon = 22\n",
    "bacon + 1"
   ]
  },
  {
   "cell_type": "markdown",
   "id": "277ea3d0",
   "metadata": {},
   "source": [
    "### Answer 6\n",
    "\n",
    "Bacon gives 23"
   ]
  },
  {
   "cell_type": "markdown",
   "id": "62f230ce",
   "metadata": {},
   "source": [
    "### Question 7\n",
    "7. What should the values of the following two terms be?\n",
    "\"spam\" + \"spamspam\"\n",
    "\"spam&\" *3"
   ]
  },
  {
   "cell_type": "code",
   "execution_count": 4,
   "id": "d3b97c98",
   "metadata": {},
   "outputs": [
    {
     "name": "stdout",
     "output_type": "stream",
     "text": [
      "spamspamspam\n",
      "spamspamspam\n"
     ]
    }
   ],
   "source": [
    "print(\"spam\" + \"spamspam\")\n",
    "print(\"spam\" *3)"
   ]
  },
  {
   "cell_type": "markdown",
   "id": "0bda8587",
   "metadata": {},
   "source": [
    "### Answer 7 \n",
    "\n",
    "The first instance gives a concantenation\n",
    "The second looks like a concantenation but actually a multiplication"
   ]
  },
  {
   "cell_type": "markdown",
   "id": "c28f5e87",
   "metadata": {},
   "source": [
    "### Question 8\n",
    "8. Why is eggs a valid variable name while 100 is invalid?"
   ]
  },
  {
   "cell_type": "markdown",
   "id": "505888cd",
   "metadata": {},
   "source": [
    "### Answer 8\n",
    "\n",
    "A variable can start with an _ or a alphabet but can not be a keyword or number"
   ]
  },
  {
   "cell_type": "markdown",
   "id": "a933cae7",
   "metadata": {},
   "source": [
    "### Question 9\n",
    "\n",
    "9. What three functions can be used to get the integer, floating-point number, or string version of a value?"
   ]
  },
  {
   "cell_type": "markdown",
   "id": "94760ee0",
   "metadata": {},
   "source": [
    "### Answer 9\n",
    "\n",
    "int(),  float(), str() respectively"
   ]
  },
  {
   "cell_type": "markdown",
   "id": "93618c2f",
   "metadata": {},
   "source": [
    "### Question 10\n",
    "\n",
    "10. Why does this expression cause an error? How can you fix it?\n",
    "\"I have eaten\" + 99 + \"burritos.\"\n"
   ]
  },
  {
   "cell_type": "markdown",
   "id": "b264e5e0",
   "metadata": {},
   "source": [
    "### Answer 10\n",
    "\n",
    "The above statement will give an error because there is concantenation between an integer and strings\n",
    "\n",
    "The solution is to either put the integer in a quote or type-cast the integer"
   ]
  },
  {
   "cell_type": "code",
   "execution_count": 6,
   "id": "cce8883a",
   "metadata": {},
   "outputs": [
    {
     "name": "stdout",
     "output_type": "stream",
     "text": [
      "I have eaten 99 burritos.\n"
     ]
    }
   ],
   "source": [
    "# like this\n",
    "print(\"I have eaten\" + \" 99 \" + \"burritos.\")"
   ]
  },
  {
   "cell_type": "code",
   "execution_count": 8,
   "id": "f770bfcc",
   "metadata": {},
   "outputs": [
    {
     "name": "stdout",
     "output_type": "stream",
     "text": [
      "I have eaten 99 burritos.\n"
     ]
    }
   ],
   "source": [
    "# like this \n",
    "print(\"I have eaten \" + str(99) + \" burritos.\")"
   ]
  },
  {
   "cell_type": "code",
   "execution_count": null,
   "id": "47ecf581",
   "metadata": {},
   "outputs": [],
   "source": [
    " "
   ]
  }
 ],
 "metadata": {
  "kernelspec": {
   "display_name": "Python 3 (ipykernel)",
   "language": "python",
   "name": "python3"
  },
  "language_info": {
   "codemirror_mode": {
    "name": "ipython",
    "version": 3
   },
   "file_extension": ".py",
   "mimetype": "text/x-python",
   "name": "python",
   "nbconvert_exporter": "python",
   "pygments_lexer": "ipython3",
   "version": "3.10.9"
  }
 },
 "nbformat": 4,
 "nbformat_minor": 5
}
