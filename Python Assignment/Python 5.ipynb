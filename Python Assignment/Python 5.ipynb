{
 "cells": [
  {
   "cell_type": "markdown",
   "id": "14f48442",
   "metadata": {},
   "source": [
    "### Question 1\n",
    "\n",
    "1. What does an empty dictionary&#39;s code look like?"
   ]
  },
  {
   "cell_type": "code",
   "execution_count": 1,
   "id": "a89b004a",
   "metadata": {},
   "outputs": [],
   "source": [
    "### Answer 1\n",
    "\n",
    "empty_dict = {}"
   ]
  },
  {
   "cell_type": "markdown",
   "id": "ff91c77b",
   "metadata": {},
   "source": [
    "### Question 2\n",
    "\n",
    "2. What is the value of a dictionary value with the key &#39;foo&#39; and the value 42?\n",
    "\n"
   ]
  },
  {
   "cell_type": "markdown",
   "id": "43a491a3",
   "metadata": {},
   "source": [
    "### Answer 2\n",
    "\n",
    "The value of the dictionary is 42"
   ]
  },
  {
   "cell_type": "markdown",
   "id": "811d51ae",
   "metadata": {},
   "source": [
    "### Question 3\n",
    "\n",
    "3. What is the most significant distinction between a dictionary and a list?\n",
    "\n",
    "### Answer 3\n",
    "\n",
    "The distinction is in that dictionaries access values by their corresponding keys, while lists access values by their corresponding index\n",
    "\n",
    "The dictionaries are a type of collection that have key-value pairs"
   ]
  },
  {
   "cell_type": "markdown",
   "id": "d3b83093",
   "metadata": {},
   "source": [
    "### Question 4\n",
    "\n",
    "4. What happens if you try to access spam[&#39;foo&#39;] if spam is {&#39;bar&#39;: 100}?\n",
    "\n",
    "### Answer 4\n",
    "\n",
    "This will return \"KeyError\", as shown below"
   ]
  },
  {
   "cell_type": "code",
   "execution_count": 3,
   "id": "2cfbf7c6",
   "metadata": {},
   "outputs": [
    {
     "ename": "KeyError",
     "evalue": "'foo'",
     "output_type": "error",
     "traceback": [
      "\u001b[0;31m---------------------------------------------------------------------------\u001b[0m",
      "\u001b[0;31mKeyError\u001b[0m                                  Traceback (most recent call last)",
      "Cell \u001b[0;32mIn[3], line 5\u001b[0m\n\u001b[1;32m      1\u001b[0m my_dict \u001b[38;5;241m=\u001b[39m {\n\u001b[1;32m      2\u001b[0m     \u001b[38;5;124m\"\u001b[39m\u001b[38;5;124mbar\u001b[39m\u001b[38;5;124m\"\u001b[39m : \u001b[38;5;241m100\u001b[39m\n\u001b[1;32m      3\u001b[0m }\n\u001b[0;32m----> 5\u001b[0m \u001b[43mmy_dict\u001b[49m\u001b[43m[\u001b[49m\u001b[38;5;124;43m\"\u001b[39;49m\u001b[38;5;124;43mfoo\u001b[39;49m\u001b[38;5;124;43m\"\u001b[39;49m\u001b[43m]\u001b[49m\n",
      "\u001b[0;31mKeyError\u001b[0m: 'foo'"
     ]
    }
   ],
   "source": [
    "my_dict = {\n",
    "    \"bar\" : 100\n",
    "}\n",
    "\n",
    "my_dict[\"foo\"]"
   ]
  },
  {
   "cell_type": "markdown",
   "id": "c2cc7858",
   "metadata": {},
   "source": [
    "### Question 5\n",
    "5. If a dictionary is stored in spam, what is the difference between the expressions &#39;cat&#39; in spam and\n",
    "&#39;cat&#39; in spam.keys()?\n",
    "\n",
    "let's find out\n"
   ]
  },
  {
   "cell_type": "code",
   "execution_count": 4,
   "id": "8d421c38",
   "metadata": {},
   "outputs": [],
   "source": [
    "spam = {\n",
    "    \"cat\" : 2\n",
    "}"
   ]
  },
  {
   "cell_type": "code",
   "execution_count": 7,
   "id": "4a02e251",
   "metadata": {},
   "outputs": [
    {
     "data": {
      "text/plain": [
       "True"
      ]
     },
     "execution_count": 7,
     "metadata": {},
     "output_type": "execute_result"
    }
   ],
   "source": [
    "\"cat\" in spam"
   ]
  },
  {
   "cell_type": "code",
   "execution_count": 8,
   "id": "94589073",
   "metadata": {},
   "outputs": [
    {
     "data": {
      "text/plain": [
       "True"
      ]
     },
     "execution_count": 8,
     "metadata": {},
     "output_type": "execute_result"
    }
   ],
   "source": [
    "\"cat\" in spam.keys()"
   ]
  },
  {
   "cell_type": "markdown",
   "id": "18954e44",
   "metadata": {},
   "source": [
    "### Answer 5\n",
    "\n",
    "Both returns the boolen value True"
   ]
  },
  {
   "cell_type": "markdown",
   "id": "537d7782",
   "metadata": {},
   "source": [
    "### Question 6\n",
    "\n",
    "6. If a dictionary is stored in spam, what is the difference between the expressions &#39;cat&#39; in spam and\n",
    "&#39;cat&#39; in spam.values()?"
   ]
  },
  {
   "cell_type": "markdown",
   "id": "15a77a8e",
   "metadata": {},
   "source": [
    "### Answer 6\n",
    "The first expression checks the keys and return either True or False depending on whether it is a key in the dict or not\n",
    "\n",
    "The second expression checks the values and return True or False depending on whether it is a valid value in the dict or not "
   ]
  },
  {
   "cell_type": "markdown",
   "id": "c327610c",
   "metadata": {},
   "source": [
    "### Question 7\n",
    "\n",
    "7. What is a shortcut for the following code?\n",
    "if &#39;color&#39; not in spam:\n",
    "spam[&#39;color&#39;] = &#39;black&#39;"
   ]
  },
  {
   "cell_type": "code",
   "execution_count": 9,
   "id": "926df912",
   "metadata": {},
   "outputs": [
    {
     "data": {
      "text/plain": [
       "{'color': 'black'}"
      ]
     },
     "execution_count": 9,
     "metadata": {},
     "output_type": "execute_result"
    }
   ],
   "source": [
    "spam = {}\n",
    "\n",
    "spam[\"color\"] = \"black\"\n",
    "\n",
    "spam"
   ]
  },
  {
   "cell_type": "markdown",
   "id": "9253281b",
   "metadata": {},
   "source": [
    "### Question 8\n",
    "\n",
    "8. How do you &quot;pretty print&quot; dictionary values using which module and function?"
   ]
  },
  {
   "cell_type": "code",
   "execution_count": null,
   "id": "1c4c9023",
   "metadata": {},
   "outputs": [],
   "source": [
    "import pprint\n",
    "\n",
    "my_dict = {\n",
    "    \"name\" : \"Oshionwu Victor\",\n",
    "    \"age\" : 26,\n",
    "    \"Level\" : 400\n",
    "}"
   ]
  }
 ],
 "metadata": {
  "kernelspec": {
   "display_name": "Python 3 (ipykernel)",
   "language": "python",
   "name": "python3"
  },
  "language_info": {
   "codemirror_mode": {
    "name": "ipython",
    "version": 3
   },
   "file_extension": ".py",
   "mimetype": "text/x-python",
   "name": "python",
   "nbconvert_exporter": "python",
   "pygments_lexer": "ipython3",
   "version": "3.10.9"
  }
 },
 "nbformat": 4,
 "nbformat_minor": 5
}
