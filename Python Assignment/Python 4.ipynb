{
 "cells": [
  {
   "cell_type": "markdown",
   "id": "49d5dca1",
   "metadata": {},
   "source": [
    "### Question 1\n",
    "\n",
    "1. What exactly is []?\n",
    "\n",
    "### Answer 1\n",
    "\n",
    "This is a symbol for an empty list"
   ]
  },
  {
   "cell_type": "markdown",
   "id": "fb71ac4d",
   "metadata": {},
   "source": [
    "### Question 2\n",
    "\n",
    "2. In a list of values stored in a variable called spam, how would you assign the value \"hello\" as the\n",
    "third value? (Assume [2, 4, 6, 8, 10] are in spam.)\n",
    "\n",
    "### Answer 2\n",
    "\n",
    "By simply calling spam[2] = \"hello\""
   ]
  },
  {
   "cell_type": "code",
   "execution_count": 1,
   "id": "338c13f9",
   "metadata": {},
   "outputs": [
    {
     "name": "stdout",
     "output_type": "stream",
     "text": [
      "[2, 4, 'hello', 8, 10]\n"
     ]
    }
   ],
   "source": [
    "spam = [2,4,6,8,10]\n",
    "\n",
    "spam[2] = \"hello\"\n",
    "\n",
    "print(spam)"
   ]
  },
  {
   "cell_type": "markdown",
   "id": "b42f9b7d",
   "metadata": {},
   "source": [
    "Let's pretend the spam includes the list [\"a\", \"b\", \"c\", \"d\"] for the next three queries."
   ]
  },
  {
   "cell_type": "markdown",
   "id": "348837af",
   "metadata": {},
   "source": [
    "### Question 3\n",
    "\n",
    "3. What is the value of spam[int(int(\"3\"* 2) / 11)]?"
   ]
  },
  {
   "cell_type": "code",
   "execution_count": 2,
   "id": "1d9b5c44",
   "metadata": {},
   "outputs": [
    {
     "data": {
      "text/plain": [
       "'d'"
      ]
     },
     "execution_count": 2,
     "metadata": {},
     "output_type": "execute_result"
    }
   ],
   "source": [
    "### Answer 3\n",
    "spam = [\"a\", \"b\", \"c\", \"d\"]\n",
    "\n",
    "spam[int(int(\"3\"*2) / 11)]"
   ]
  },
  {
   "cell_type": "code",
   "execution_count": 3,
   "id": "2d0926cd",
   "metadata": {},
   "outputs": [
    {
     "data": {
      "text/plain": [
       "33"
      ]
     },
     "execution_count": 3,
     "metadata": {},
     "output_type": "execute_result"
    }
   ],
   "source": [
    "int(\"3\" * 2)"
   ]
  },
  {
   "cell_type": "markdown",
   "id": "f8fd6a00",
   "metadata": {},
   "source": [
    "### Question 4\n",
    "\n",
    "4. What is the value of spam[-1]?\n",
    "\n",
    "### Answer 4\n",
    "\n",
    "spam[-1] returns the last element"
   ]
  },
  {
   "cell_type": "code",
   "execution_count": 4,
   "id": "7874ed78",
   "metadata": {},
   "outputs": [
    {
     "data": {
      "text/plain": [
       "'d'"
      ]
     },
     "execution_count": 4,
     "metadata": {},
     "output_type": "execute_result"
    }
   ],
   "source": [
    "spam[-1]"
   ]
  },
  {
   "cell_type": "markdown",
   "id": "b5429700",
   "metadata": {},
   "source": [
    "### Question 5\n",
    "\n",
    "5. What is the value of spam[:2]?\n",
    "\n",
    "### Answer 5\n",
    "\n",
    "spam[:2] returns from index 0 to 2 excluding index 2"
   ]
  },
  {
   "cell_type": "code",
   "execution_count": 5,
   "id": "b41ca39d",
   "metadata": {},
   "outputs": [
    {
     "data": {
      "text/plain": [
       "['a', 'b']"
      ]
     },
     "execution_count": 5,
     "metadata": {},
     "output_type": "execute_result"
    }
   ],
   "source": [
    "spam[:2]"
   ]
  },
  {
   "cell_type": "markdown",
   "id": "032e8135",
   "metadata": {},
   "source": [
    "Let's pretend bacon has the list [3.14, \"cat,\" 11, \"cat,\" True] for the next three questions."
   ]
  },
  {
   "cell_type": "markdown",
   "id": "bead5fb8",
   "metadata": {},
   "source": [
    "### Question 6\n",
    "\n",
    "6. What is the value of bacon.index(\"cat\")?\n",
    "\n",
    "### Answer 6\n",
    ".index() returns the index position of the element"
   ]
  },
  {
   "cell_type": "code",
   "execution_count": 6,
   "id": "be4f563e",
   "metadata": {},
   "outputs": [
    {
     "data": {
      "text/plain": [
       "1"
      ]
     },
     "execution_count": 6,
     "metadata": {},
     "output_type": "execute_result"
    }
   ],
   "source": [
    "### to prove\n",
    "\n",
    "bacon = [3.14, \"cat,\", 11, \"cat,\", True]\n",
    "\n",
    "bacon.index(\"cat,\")"
   ]
  },
  {
   "cell_type": "markdown",
   "id": "c1950718",
   "metadata": {},
   "source": [
    "### Question 7\n",
    "\n",
    "7. How does bacon.append(99) change the look of the list value in bacon?\n",
    "\n",
    "### Answer 7\n",
    "\n",
    "The .append method adds an element to the end of a list, to confirm check below"
   ]
  },
  {
   "cell_type": "code",
   "execution_count": 7,
   "id": "7e2cbde5",
   "metadata": {},
   "outputs": [
    {
     "data": {
      "text/plain": [
       "[3.14, 'cat,', 11, 'cat,', True]"
      ]
     },
     "execution_count": 7,
     "metadata": {},
     "output_type": "execute_result"
    }
   ],
   "source": [
    "bacon"
   ]
  },
  {
   "cell_type": "code",
   "execution_count": 8,
   "id": "06292d80",
   "metadata": {},
   "outputs": [],
   "source": [
    "bacon.append(99)"
   ]
  },
  {
   "cell_type": "code",
   "execution_count": 9,
   "id": "f293c392",
   "metadata": {},
   "outputs": [
    {
     "data": {
      "text/plain": [
       "[3.14, 'cat,', 11, 'cat,', True, 99]"
      ]
     },
     "execution_count": 9,
     "metadata": {},
     "output_type": "execute_result"
    }
   ],
   "source": [
    "bacon"
   ]
  },
  {
   "cell_type": "markdown",
   "id": "ccf1c48c",
   "metadata": {},
   "source": [
    "### Question 8\n",
    "\n",
    "8. How does bacon.remove(&#39;cat&#39;) change the look of the list in bacon?"
   ]
  },
  {
   "cell_type": "markdown",
   "id": "95da92da",
   "metadata": {},
   "source": [
    "### Answer 8\n",
    "\n",
    "The .remove removes the first instance of the element provided if it the elements occurence is more than twice"
   ]
  },
  {
   "cell_type": "code",
   "execution_count": 11,
   "id": "b6394225",
   "metadata": {},
   "outputs": [],
   "source": [
    "bacon.remove(\"cat,\")"
   ]
  },
  {
   "cell_type": "code",
   "execution_count": 12,
   "id": "85c6e747",
   "metadata": {},
   "outputs": [
    {
     "data": {
      "text/plain": [
       "[3.14, 11, 'cat,', True, 99]"
      ]
     },
     "execution_count": 12,
     "metadata": {},
     "output_type": "execute_result"
    }
   ],
   "source": [
    "bacon"
   ]
  },
  {
   "cell_type": "markdown",
   "id": "98995aba",
   "metadata": {},
   "source": [
    "### Question 9\n",
    "\n",
    "9. What are the list concatenation and list replication operators?\n",
    "\n",
    "### Answer 9\n",
    "\n",
    "The .append is a concatenation operator, while the .copy is the replication operator"
   ]
  },
  {
   "cell_type": "markdown",
   "id": "e9f18cf0",
   "metadata": {},
   "source": [
    "### Question 10\n",
    "\n",
    "10. What is difference between the list methods append() and insert()?\n",
    "\n",
    "### Answer 10\n",
    "\n",
    "The append method adds an element to the end of a list, while an insert adds an element to a particular index"
   ]
  },
  {
   "cell_type": "markdown",
   "id": "bbe79ece",
   "metadata": {},
   "source": [
    "### Question 11\n",
    "\n",
    "11. What are the two methods for removing items from a list?\n",
    "\n",
    "### Answer 11\n",
    "\n",
    ".pop() and .remove()"
   ]
  },
  {
   "cell_type": "markdown",
   "id": "d8026f2f",
   "metadata": {},
   "source": [
    "### Question 12\n",
    "\n",
    "12. Describe how list values and string values are identical.\n",
    "\n",
    "### Answer 12\n",
    "\n",
    "There are a number of similarities between a string and list\n",
    "\n",
    "1. They are indexable\n",
    "2. You can determine their length\n",
    "3. They can be looped one after the other, i.e iterations\n",
    "4. They are sequential data, i.e each element has a unique index"
   ]
  },
  {
   "cell_type": "markdown",
   "id": "34e13528",
   "metadata": {},
   "source": [
    "### Question 13\n",
    "\n",
    "13. What&#39;s the difference between tuples and lists?\n",
    "\n",
    "\n",
    "### Answer 13\n",
    "\n",
    "While lists are mutable, tuples are immutable,and because of this there are no many methods on the tuples data types save the index and count methods"
   ]
  },
  {
   "cell_type": "markdown",
   "id": "4cfe4157",
   "metadata": {},
   "source": [
    "### Question 14\n",
    "\n",
    "14. How do you type a tuple value that only contains the integer 42?\n"
   ]
  },
  {
   "cell_type": "code",
   "execution_count": 13,
   "id": "ab858d89",
   "metadata": {},
   "outputs": [],
   "source": [
    "# Answer to question 14\n",
    "\n",
    "tup = (int(42))"
   ]
  },
  {
   "cell_type": "code",
   "execution_count": 14,
   "id": "2b4e2a61",
   "metadata": {},
   "outputs": [
    {
     "data": {
      "text/plain": [
       "42"
      ]
     },
     "execution_count": 14,
     "metadata": {},
     "output_type": "execute_result"
    }
   ],
   "source": [
    "tup"
   ]
  },
  {
   "cell_type": "markdown",
   "id": "604da90e",
   "metadata": {},
   "source": [
    "### Question 15\n",
    "\n",
    "How do you get a list value&#39;s tuple form? How do you get a tuple value&#39;s list form?\n",
    "\n",
    "Answer given below"
   ]
  },
  {
   "cell_type": "code",
   "execution_count": 15,
   "id": "2584f258",
   "metadata": {},
   "outputs": [
    {
     "name": "stdout",
     "output_type": "stream",
     "text": [
      "('rice', 'beans', 25, [1, 2, 3, 4], 3.14)\n"
     ]
    }
   ],
   "source": [
    "my_list = [\"rice\", \"beans\", 25, [1,2,3,4], 3.14]\n",
    "\n",
    "my_tuple = tuple(my_list)\n",
    "\n",
    "print(my_tuple)"
   ]
  },
  {
   "cell_type": "code",
   "execution_count": 16,
   "id": "683c746d",
   "metadata": {},
   "outputs": [
    {
     "name": "stdout",
     "output_type": "stream",
     "text": [
      "[1, 2, 3, 4, [1, 2, 3, 4], 'rice', 'beans']\n"
     ]
    }
   ],
   "source": [
    "new_tuple = (1,2,3,4, [1,2,3,4], \"rice\", \"beans\")\n",
    "\n",
    "my_list = list(new_tuple)\n",
    "\n",
    "print(my_list)"
   ]
  },
  {
   "cell_type": "markdown",
   "id": "b35bff5e",
   "metadata": {},
   "source": [
    "### Question 16\n",
    "\n",
    "16. Variables that &quot;contain&quot; list values are not necessarily lists themselves. Instead, what do they\n",
    "contain?\n"
   ]
  }
 ],
 "metadata": {
  "kernelspec": {
   "display_name": "Python 3 (ipykernel)",
   "language": "python",
   "name": "python3"
  },
  "language_info": {
   "codemirror_mode": {
    "name": "ipython",
    "version": 3
   },
   "file_extension": ".py",
   "mimetype": "text/x-python",
   "name": "python",
   "nbconvert_exporter": "python",
   "pygments_lexer": "ipython3",
   "version": "3.10.9"
  }
 },
 "nbformat": 4,
 "nbformat_minor": 5
}
